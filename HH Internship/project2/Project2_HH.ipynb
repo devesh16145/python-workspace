{
 "cells": [
  {
   "cell_type": "code",
   "execution_count": 3,
   "source": [
    "import pandas as pd\r\n",
    "import numpy as np\r\n",
    "from datetime import datetime,date"
   ],
   "outputs": [],
   "metadata": {}
  },
  {
   "cell_type": "code",
   "execution_count": 36,
   "source": [
    "''' 1) read excel\r\n",
    "2) setting all counsellor names to lower case'''\r\n",
    "df_combined_clean= pd.read_excel('combined_clean.xlsx')\r\n",
    "df_combined_clean['Counsellor Name'] = df_combined_clean['Counsellor Name'].str.upper()\r\n",
    "df_combined_clean = df_combined_clean.iloc[: , 1:]\r\n",
    "df_combined_clean['Date'] = pd.to_datetime(df_combined_clean['Date']).dt.date\r\n"
   ],
   "outputs": [],
   "metadata": {}
  },
  {
   "cell_type": "code",
   "execution_count": 37,
   "source": [
    "df_combined_clean.head()"
   ],
   "outputs": [
    {
     "output_type": "execute_result",
     "data": {
      "text/plain": [
       "         Date Counsellor Name Course Name  Fees Received  Fees Total\n",
       "0  2020-04-01              SK        CADM         5000.0      5000.0\n",
       "1  2020-04-01              SK        CDCW         7500.0      7500.0\n",
       "2  2020-04-01              SK        CDCW         9500.0      9500.0\n",
       "3  2020-04-01              SK        CDCW         9500.0      9500.0\n",
       "4  2020-04-01              SK        CDCW         9000.0      9000.0"
      ],
      "text/html": [
       "<div>\n",
       "<style scoped>\n",
       "    .dataframe tbody tr th:only-of-type {\n",
       "        vertical-align: middle;\n",
       "    }\n",
       "\n",
       "    .dataframe tbody tr th {\n",
       "        vertical-align: top;\n",
       "    }\n",
       "\n",
       "    .dataframe thead th {\n",
       "        text-align: right;\n",
       "    }\n",
       "</style>\n",
       "<table border=\"1\" class=\"dataframe\">\n",
       "  <thead>\n",
       "    <tr style=\"text-align: right;\">\n",
       "      <th></th>\n",
       "      <th>Date</th>\n",
       "      <th>Counsellor Name</th>\n",
       "      <th>Course Name</th>\n",
       "      <th>Fees Received</th>\n",
       "      <th>Fees Total</th>\n",
       "    </tr>\n",
       "  </thead>\n",
       "  <tbody>\n",
       "    <tr>\n",
       "      <th>0</th>\n",
       "      <td>2020-04-01</td>\n",
       "      <td>SK</td>\n",
       "      <td>CADM</td>\n",
       "      <td>5000.0</td>\n",
       "      <td>5000.0</td>\n",
       "    </tr>\n",
       "    <tr>\n",
       "      <th>1</th>\n",
       "      <td>2020-04-01</td>\n",
       "      <td>SK</td>\n",
       "      <td>CDCW</td>\n",
       "      <td>7500.0</td>\n",
       "      <td>7500.0</td>\n",
       "    </tr>\n",
       "    <tr>\n",
       "      <th>2</th>\n",
       "      <td>2020-04-01</td>\n",
       "      <td>SK</td>\n",
       "      <td>CDCW</td>\n",
       "      <td>9500.0</td>\n",
       "      <td>9500.0</td>\n",
       "    </tr>\n",
       "    <tr>\n",
       "      <th>3</th>\n",
       "      <td>2020-04-01</td>\n",
       "      <td>SK</td>\n",
       "      <td>CDCW</td>\n",
       "      <td>9500.0</td>\n",
       "      <td>9500.0</td>\n",
       "    </tr>\n",
       "    <tr>\n",
       "      <th>4</th>\n",
       "      <td>2020-04-01</td>\n",
       "      <td>SK</td>\n",
       "      <td>CDCW</td>\n",
       "      <td>9000.0</td>\n",
       "      <td>9000.0</td>\n",
       "    </tr>\n",
       "  </tbody>\n",
       "</table>\n",
       "</div>"
      ]
     },
     "metadata": {},
     "execution_count": 37
    }
   ],
   "metadata": {}
  },
  {
   "cell_type": "code",
   "execution_count": 38,
   "source": [
    "'''getting all the cousellor names and store them in a list'''\r\n",
    "counsellor_names = list(df_combined_clean['Counsellor Name'].unique())\r\n",
    "print(counsellor_names)"
   ],
   "outputs": [
    {
     "output_type": "stream",
     "name": "stdout",
     "text": [
      "['SK', 'NK', 'NC', 'MM', 'IJ', 'SS', 'CD', 'KIM', 'SAHIBA', 'LAIBA', 'MANISHA', 'GARIMA', 'NAMRATA', 'HEMLATA', 'HONEY', 'AYUSHI', 'SUNNY', 'MEHJABEE', 'CHANDRIKA', 'IQRA', 'MINALI', 'NEELAM', 'POOJA', 'DEEPAK', 'ANAM', 'VIBHATI', 'VIKAS', 'AKANSHA', 'POONAM', 'FAIZA', 'SUNITA', 'MUSHIR', 'SHANNO', 'TINKI', 'KAMAL', 'PARMINDER', 'ANJALI', 'VARSHA', 'DANISH', 'ARYA', 'APOORVA', 'SHAROON', 'DIWAKAR', 'DEEPAK ARYA', 'JYOTI', 'URVASHI', 'AJAY', 'ABHISHEK', 'MANISH', 'RUBY', 'NAVEEN', 'SIMRAN', 'TARUN', 'ANKIT', 'SAMREEN', 'SUYAL', 'VINEETA', 'ABHISHEK CHAUHAN', 'VIPIN', 'PRIYANKA', 'KOMAL', 'SAKSHI', 'NIMRA', 'SONAM', 'DEEPTI', 'PANKAJ', 'KHALID', 'DEEPENDER', 'SONALI', 'UJJAL', 'BHOOMIKA', 'VIDUSHI']\n"
     ]
    }
   ],
   "metadata": {}
  },
  {
   "cell_type": "code",
   "execution_count": 39,
   "source": [
    "'''make a copy of orginal data. all the operations will be \r\n",
    "performed on this copy'''\r\n",
    "df_combined_clean_working = df_combined_clean.copy()"
   ],
   "outputs": [],
   "metadata": {}
  },
  {
   "cell_type": "code",
   "execution_count": 40,
   "source": [
    "'''grouping data by counsellor name and month'''\r\n",
    "df_combined_clean_working_group = df_combined_clean_working.groupby(['Counsellor Name','Date']).agg({'Fees Received': ['sum']})"
   ],
   "outputs": [],
   "metadata": {}
  },
  {
   "cell_type": "code",
   "execution_count": 41,
   "source": [
    "print(df_combined_clean_working_group)"
   ],
   "outputs": [
    {
     "output_type": "stream",
     "name": "stdout",
     "text": [
      "                           Fees Received\n",
      "                                     sum\n",
      "Counsellor Name Date                    \n",
      "ABHISHEK        2020-04-01      393000.0\n",
      "                2020-05-01      483050.0\n",
      "                2020-06-01      260650.0\n",
      "                2020-07-01      236450.0\n",
      "                2020-08-01      278900.0\n",
      "...                                  ...\n",
      "VIPIN           2021-03-01      376650.0\n",
      "                2021-04-01      404200.0\n",
      "                2021-05-01      537870.0\n",
      "                2021-06-01      507907.0\n",
      "                2021-07-01      438175.0\n",
      "\n",
      "[357 rows x 1 columns]\n"
     ]
    }
   ],
   "metadata": {}
  },
  {
   "cell_type": "code",
   "execution_count": 42,
   "source": [
    "df_combined_clean_working_group.loc['SK','Fees Received']"
   ],
   "outputs": [
    {
     "output_type": "execute_result",
     "data": {
      "text/plain": [
       "                 sum\n",
       "Date                \n",
       "2020-04-01  187000.0\n",
       "2020-05-01  167000.0\n",
       "2020-06-01  166000.0\n",
       "2020-07-01  262000.0\n",
       "2020-08-01  275624.0\n",
       "2020-09-01  143000.0\n",
       "2020-10-01   95499.0\n",
       "2020-11-01   42500.0\n",
       "2020-12-01  111000.0"
      ],
      "text/html": [
       "<div>\n",
       "<style scoped>\n",
       "    .dataframe tbody tr th:only-of-type {\n",
       "        vertical-align: middle;\n",
       "    }\n",
       "\n",
       "    .dataframe tbody tr th {\n",
       "        vertical-align: top;\n",
       "    }\n",
       "\n",
       "    .dataframe thead th {\n",
       "        text-align: right;\n",
       "    }\n",
       "</style>\n",
       "<table border=\"1\" class=\"dataframe\">\n",
       "  <thead>\n",
       "    <tr style=\"text-align: right;\">\n",
       "      <th></th>\n",
       "      <th>sum</th>\n",
       "    </tr>\n",
       "    <tr>\n",
       "      <th>Date</th>\n",
       "      <th></th>\n",
       "    </tr>\n",
       "  </thead>\n",
       "  <tbody>\n",
       "    <tr>\n",
       "      <th>2020-04-01</th>\n",
       "      <td>187000.0</td>\n",
       "    </tr>\n",
       "    <tr>\n",
       "      <th>2020-05-01</th>\n",
       "      <td>167000.0</td>\n",
       "    </tr>\n",
       "    <tr>\n",
       "      <th>2020-06-01</th>\n",
       "      <td>166000.0</td>\n",
       "    </tr>\n",
       "    <tr>\n",
       "      <th>2020-07-01</th>\n",
       "      <td>262000.0</td>\n",
       "    </tr>\n",
       "    <tr>\n",
       "      <th>2020-08-01</th>\n",
       "      <td>275624.0</td>\n",
       "    </tr>\n",
       "    <tr>\n",
       "      <th>2020-09-01</th>\n",
       "      <td>143000.0</td>\n",
       "    </tr>\n",
       "    <tr>\n",
       "      <th>2020-10-01</th>\n",
       "      <td>95499.0</td>\n",
       "    </tr>\n",
       "    <tr>\n",
       "      <th>2020-11-01</th>\n",
       "      <td>42500.0</td>\n",
       "    </tr>\n",
       "    <tr>\n",
       "      <th>2020-12-01</th>\n",
       "      <td>111000.0</td>\n",
       "    </tr>\n",
       "  </tbody>\n",
       "</table>\n",
       "</div>"
      ]
     },
     "metadata": {},
     "execution_count": 42
    }
   ],
   "metadata": {}
  },
  {
   "cell_type": "code",
   "execution_count": 34,
   "source": [
    "import seaborn as sns\r\n",
    "import matplotlib.pyplot as plt\r\n",
    "from matplotlib.backends.backend_pdf import PdfPages"
   ],
   "outputs": [],
   "metadata": {}
  },
  {
   "cell_type": "code",
   "execution_count": 44,
   "source": [
    "'''1) setting tick interval\r\n",
    "2) using loop to plot all data at once. k is the index in list counsellor name \r\n",
    "and j is its value'''\r\n",
    "#yticks_interval = [0, 500000, 50000,100000,150000,200000,250000,300000,350000,400000,450000,500000]\r\n",
    "with PdfPages('data_visualisation_all.pdf') as pdf:\r\n",
    "    for k, j in enumerate(counsellor_names):\r\n",
    "        df_combined_clean_working_group.loc[j].plot(kind= 'bar',subplots=True, figsize=(6, 6))\r\n",
    "        #plt.yticks(yticks_interval)\r\n",
    "        plt.title(j)\r\n",
    "        plt.tight_layout()\r\n",
    "        pdf.savefig()\r\n",
    "        plt.close()\r\n",
    "#plt.show()"
   ],
   "outputs": [],
   "metadata": {}
  },
  {
   "cell_type": "code",
   "execution_count": null,
   "source": [],
   "outputs": [],
   "metadata": {}
  }
 ],
 "metadata": {
  "orig_nbformat": 4,
  "language_info": {
   "name": "python",
   "version": "3.9.5",
   "mimetype": "text/x-python",
   "codemirror_mode": {
    "name": "ipython",
    "version": 3
   },
   "pygments_lexer": "ipython3",
   "nbconvert_exporter": "python",
   "file_extension": ".py"
  },
  "kernelspec": {
   "name": "python3",
   "display_name": "Python 3.9.5 64-bit"
  },
  "interpreter": {
   "hash": "7db717f08a7bf399b5324b8de9af251b0a3e28f0b3be10561168726bab549827"
  }
 },
 "nbformat": 4,
 "nbformat_minor": 2
}